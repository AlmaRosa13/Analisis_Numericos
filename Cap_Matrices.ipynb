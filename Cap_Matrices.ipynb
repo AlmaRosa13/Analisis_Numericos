{
  "nbformat": 4,
  "nbformat_minor": 0,
  "metadata": {
    "colab": {
      "provenance": [],
      "authorship_tag": "ABX9TyPvq3Fvl/C6L+uFZVrJ0KGG",
      "include_colab_link": true
    },
    "kernelspec": {
      "name": "python3",
      "display_name": "Python 3"
    },
    "language_info": {
      "name": "python"
    }
  },
  "cells": [
    {
      "cell_type": "markdown",
      "metadata": {
        "id": "view-in-github",
        "colab_type": "text"
      },
      "source": [
        "<a href=\"https://colab.research.google.com/github/AlmaRosa13/Analisis_Numericos/blob/main/Cap_Matrices.ipynb\" target=\"_parent\"><img src=\"https://colab.research.google.com/assets/colab-badge.svg\" alt=\"Open In Colab\"/></a>"
      ]
    },
    {
      "cell_type": "markdown",
      "source": [
        "---\n",
        "# **Eliminación de Gauss**\n",
        "\n",
        "---"
      ],
      "metadata": {
        "id": "BCM-7Sot8STV"
      }
    },
    {
      "cell_type": "code",
      "execution_count": null,
      "metadata": {
        "colab": {
          "base_uri": "https://localhost:8080/"
        },
        "id": "NhvVCbqH8O-w",
        "outputId": "21deecc0-71f6-4b56-c852-0e9f57f21042"
      },
      "outputs": [
        {
          "output_type": "stream",
          "name": "stdout",
          "text": [
            "rango(A)=5; rango(Ab)=5; n=5\n",
            "Solución única\n",
            "[17.65270678 19.67904691 35.15143662 22.69415361  4.82265608]\n"
          ]
        }
      ],
      "source": [
        "import numpy as np\n",
        "\n",
        "def gauss(a,b):\n",
        "    n,_=np.shape(a) # Shape da la dimensión real en términos de matriz o fila/columnas.\n",
        "    A=np.c_[a,b]\n",
        "    for i in range(n-1):\n",
        "        for j in range(i+1,n):\n",
        "            # Si el termino ya es cero continua con la siguiente\n",
        "            if (A[j,i]!=0 and A[i,i]!=0):\n",
        "                f=A[j,i]/A[i,i] # factor de reduccion\n",
        "                A[j,i+1:n+1]=A[j,i+1:n+1]-f*A[i,i+1:n+1]\n",
        "   # aplica la sustitucion inversa\n",
        "    x=np.zeros(n)\n",
        "    for i in range(n-1,-1,-1):\n",
        "        x[i]=(A[i,n]-np.dot(A[i,i+1:n],x[i+1:n]))/A[i,i]\n",
        "    return x\n",
        "\n",
        "def main():\n",
        "    a=np.array([[55.8, 20.4, 17.1, 18.5, 19.2],\\\n",
        "               [7.8, 52.1, 12.3, 13.9, 18.5],\\\n",
        "               [16.4, 11.5, 46.1, 11.5, 21.3],\\\n",
        "               [11.7, 9.2, 14.1, 47.0, 10.4],\\\n",
        "               [8.3, 6.8, 10.4, 9.1, 30.6]])\n",
        "    b=np.array([2500, 2000, 2500, 2000, 1000])\n",
        "    n,c=np.shape(a)\n",
        "    r=np.linalg.matrix_rank(a)\n",
        "    ab=np.c_[a,b]\n",
        "    ra=np.linalg.matrix_rank(ab)\n",
        "    print('rango(A)={}; rango(Ab)={}; n={}'.format(r,ra,n))\n",
        "    if (r==ra==n):\n",
        "        print('Solución única')\n",
        "        x= gauss(a,b)\n",
        "        #x=np. linalg . solve (a, b)\n",
        "        print(x)\n",
        "    if (r==ra<n):\n",
        "        print('Múltiples soluciones')\n",
        "    if (r<ra):\n",
        "        print('Sin solución')\n",
        "if __name__==\"__main__\":main()\n"
      ]
    },
    {
      "cell_type": "markdown",
      "source": [
        "# **Gauss-Jordan**\n"
      ],
      "metadata": {
        "id": "01j4uCZz8USz"
      }
    },
    {
      "cell_type": "code",
      "source": [
        "import numpy as np\n",
        "import sympy as sp\n",
        "\n",
        "def gaussJordan(a,b):\n",
        "    n,_=np.shape(a) # Shape da la dimensión real en términos de matriz o fila/columnas.\n",
        "    A=np.c_[a,b]\n",
        "    for i in range(n):\n",
        "        for j in range(n):\n",
        "            # Si el termino ya es cero continua con la siguiente\n",
        "            if (A[j,i]!=0 and A[i,i]!=0 and i!=j):\n",
        "                # factor de reducción\n",
        "                f=A[j,i]/A[i,i]\n",
        "                A[j,i+1:n+1]=A[j,i+1:n+1]-f*A[i,i+1:n+1]\n",
        "   # aplica la sustitucion inversa\n",
        "    x=np.zeros(n)\n",
        "    for i in range(n):\n",
        "        x[i]=A[i,n]/A[i,i]\n",
        "    return x\n",
        "\n",
        "def main():\n",
        "    a=np.array([[1, -5, -5],\\\n",
        "               [0, 3, -1],\\\n",
        "               [1, 1, -7]])\n",
        "    b=np.array([0, 0, 0])\n",
        "    n,c=np.shape(a) #calcular la dim de la matriz A solo se hace utilizando np\n",
        "    r=np.linalg.matrix_rank(a)\n",
        "    ab=np.c_[a,b]\n",
        "    ra=np.linalg.matrix_rank(ab)\n",
        "\n",
        "    print('rango(A)={}; rango(Ab)={}; n={}'.format(r,ra,n))\n",
        "\n",
        "    if (r==ra==n):\n",
        "        print('Solución única')\n",
        "        x=gaussJordan(a,b)\n",
        "        #x=np.linalg.solve(a,b)\n",
        "        print(x)\n",
        "    if (r==ra<n):\n",
        "        print('Múltiples soluciones')\n",
        "        x=sp.Matrix(a).rref()\n",
        "        print(x)\n",
        "    if (r<ra):\n",
        "        print('Sin solución')\n",
        "\n",
        "if __name__==\"__main__\":main()"
      ],
      "metadata": {
        "id": "MUxqTXuj8wS9",
        "outputId": "d31aea67-9b1b-4e5c-fc4e-89e5868c6c84",
        "colab": {
          "base_uri": "https://localhost:8080/"
        }
      },
      "execution_count": null,
      "outputs": [
        {
          "output_type": "stream",
          "name": "stdout",
          "text": [
            "rango(A)=2; rango(Ab)=2; n=3\n",
            "Múltiples soluciones\n",
            "(Matrix([\n",
            "[1, 0, -20/3],\n",
            "[0, 1,  -1/3],\n",
            "[0, 0,     0]]), (0, 1))\n"
          ]
        }
      ]
    },
    {
      "cell_type": "code",
      "source": [
        "import numpy as np\n",
        "import sympy as sp\n",
        "\n",
        "def gaussJordan(a,b):\n",
        "    n,_=np.shape(a) # Shape da la dimensión real en términos de matriz o fila/columnas.\n",
        "    A=np.c_[a,b]\n",
        "    for i in range(n):\n",
        "        for j in range(n):\n",
        "            # Si el termino ya es cero continua con la siguiente\n",
        "            if (A[j,i]!=0 and A[i,i]!=0 and i!=j):\n",
        "                # factor de reducción\n",
        "                f=A[j,i]/A[i,i]\n",
        "                A[j,i+1:n+1]=A[j,i+1:n+1]-f*A[i,i+1:n+1]\n",
        "   # aplica la sustitucion inversa\n",
        "    x=np.zeros(n)\n",
        "    for i in range(n):\n",
        "        x[i]=A[i,n]/A[i,i]\n",
        "    return x\n",
        "\n",
        "\n",
        "def main():\n",
        "    a=sp.Matrix([[1, -5, -5],\\\n",
        "               [0, 3, -1],\\\n",
        "               [1, 1, -7]])\n",
        "    b=sp.Matrix([0, 0, 0])\n",
        "    n,c=np.shape(a)\n",
        "    xvars=sp.symbols('x1, x2, x3')\n",
        "    x=sp.Matrix(xvars)\n",
        "    sol=sp.solve(a*x-b, xvars)\n",
        "    print('Solución:{}'.format(sol))\n",
        "\n",
        "if __name__==\"__main__\":main()\n"
      ],
      "metadata": {
        "id": "htG0Tz9pkCD8",
        "outputId": "6d82577f-b4fa-417a-8472-568f480e6f2a",
        "colab": {
          "base_uri": "https://localhost:8080/"
        }
      },
      "execution_count": null,
      "outputs": [
        {
          "output_type": "stream",
          "name": "stdout",
          "text": [
            "Solución:{x1: 20*x3/3, x2: x3/3}\n"
          ]
        }
      ]
    },
    {
      "cell_type": "markdown",
      "source": [
        "\n",
        "---\n",
        "\n",
        "\n",
        "# **Sistemas homogéneos**\n",
        "\n",
        "\n",
        "---\n",
        "\n"
      ],
      "metadata": {
        "id": "sgNvJieJkHgV"
      }
    },
    {
      "cell_type": "markdown",
      "source": [
        "Un sistema de ecuaciones lineales homogéneo se caracteriza porque el vector de constantes es cero $b=0$\n",
        "\n",
        "$Ax=0$ En un sistema homogéneo siempre existe la solución trivial\n",
        "$x_1=0, x_2=0, x_3=0, \\dots, x_n=0.$\n",
        "\n",
        "En otros casos existen muchas soluciones, donde se debe seleccionar una de ellas para aplicar al problema. El resultado del paso de la reducción genera una matriz con menos ecuaciones que incógnitas, por lo tanto, el conjunto solución queda en términos de las mismas incógnitas, de manera que la definición de una de ellas da como resultado el resto de las variables, así hay múltiples soluciones.\n",
        "\n",
        "Se tiene la siguiente matriz utilizar el método de reducción.\n",
        "\n",
        "$x_1-2x_3=0$ \\\\\n",
        "$x1-x4=0$ \\\\\n",
        "$3x1+4x2-4x3-3x4=0$ \\\\\n",
        "$2x2-x4=0$ \\\\\n",
        "$x2-x3=0$\n",
        "\n",
        "El sistema es homogéneo, aplicar la eliminación de Gauss-Jordan genera un sistema con menos renglones."
      ],
      "metadata": {
        "id": "fp3uYPm5kKnV"
      }
    },
    {
      "cell_type": "code",
      "source": [
        "import numpy as np\n",
        "from scipy.linalg import lu_factor, lu_solve\n",
        "print('Sistemas homogéneos')\n",
        "m=int(input(\"Introduce el número de renglones de la matriz: \"))\n",
        "n=int(input(\"Introduce el número de columnas de la matriz: \"))\n",
        "matriza=np.zeros([m,n]) #Guarda los coeficientes de la matriz\n",
        "u=np.zeros([m,m])\n",
        "l=np.zeros([m,m])\n",
        "print('Introduce los elementos de la matriz A')\n",
        "for r in range(0,m): #controla los renglones (0,m-1)\n",
        "  for c in range(0,n): #controla las columnas (0,m-1)\n",
        "    matriza[r,c]=(input(\"Elemento a[\"+str(r+1)+\",\"+str(c+1)+\"] \")) #ir acomodando lo que el usuario da de la matriz\n",
        "    matriza[r,c]=float(matriza[r,c])\n",
        "    u[r,c]=matriza[r,c]\n",
        "\n",
        "bf=int(input(\"Introduce el número de renglones del vector b: \")) #O columnas al ser cuadrada es igual\n",
        "bc=int(input(\"Introduce el número de columnas del vector b: \")) #O columnas al ser cuadrada es igual\n",
        "matrizb=np.zeros([bf,bc]) #Guarda los coeficientes de la matriz\n",
        "print('Introduce los elementos del vector b')\n",
        "for rb in range(0,bf): #controla los renglones (0,m-1)\n",
        "  for cb in range(0,bc): #controla las columnas (0,m-1)\n",
        "    matrizb[rb,cb]=(input(\"Elemento a[\"+str(rb+1)+\",\"+str(cb+1)+\"] =\")) #ir acomodando lo que el usuario da de la matriz\n",
        "    matrizb[rb,cb]=float(matrizb[rb,cb])\n",
        "\n",
        "#Operaciones para hacer ceros debajo de la diagonal principal (Haciendo uso de la eliminación gaussiana)\n",
        "n,c=np.shape(matriza)\n",
        "r=np.linalg.matrix_rank(matriza)\n",
        "ab=np.c_[matriza,matrizb]\n",
        "ra=np.linalg.matrix_rank(ab)\n",
        "print('rango(A)={}; rango(Ab)={}; n={}'.format(r,ra,c))\n",
        "if (r== ra ==c):\n",
        "  print('Solución única')\n",
        "  x=np.linalg.solve(matriza,matrizb)\n",
        "  print(x)\n",
        "if (r==ra <c):\n",
        "  print('Múltiples soluciones')\n",
        "  x=sp.Matrix(matriza).rref()\n",
        "  print(x)\n",
        "if (r<ra):\n",
        "  print('Sin solución')"
      ],
      "metadata": {
        "id": "NAXDt73JkPsL",
        "outputId": "6e292730-868a-43ce-c398-40991241860a",
        "colab": {
          "base_uri": "https://localhost:8080/",
          "height": 388
        }
      },
      "execution_count": null,
      "outputs": [
        {
          "output_type": "stream",
          "name": "stdout",
          "text": [
            "Sistemas homogéneos\n"
          ]
        },
        {
          "output_type": "error",
          "ename": "KeyboardInterrupt",
          "evalue": "Interrupted by user",
          "traceback": [
            "\u001b[0;31m---------------------------------------------------------------------------\u001b[0m",
            "\u001b[0;31mKeyboardInterrupt\u001b[0m                         Traceback (most recent call last)",
            "\u001b[0;32m<ipython-input-2-a41907596b4e>\u001b[0m in \u001b[0;36m<cell line: 4>\u001b[0;34m()\u001b[0m\n\u001b[1;32m      2\u001b[0m \u001b[0;32mfrom\u001b[0m \u001b[0mscipy\u001b[0m\u001b[0;34m.\u001b[0m\u001b[0mlinalg\u001b[0m \u001b[0;32mimport\u001b[0m \u001b[0mlu_factor\u001b[0m\u001b[0;34m,\u001b[0m \u001b[0mlu_solve\u001b[0m\u001b[0;34m\u001b[0m\u001b[0;34m\u001b[0m\u001b[0m\n\u001b[1;32m      3\u001b[0m \u001b[0mprint\u001b[0m\u001b[0;34m(\u001b[0m\u001b[0;34m'Sistemas homogéneos'\u001b[0m\u001b[0;34m)\u001b[0m\u001b[0;34m\u001b[0m\u001b[0;34m\u001b[0m\u001b[0m\n\u001b[0;32m----> 4\u001b[0;31m \u001b[0mm\u001b[0m\u001b[0;34m=\u001b[0m\u001b[0mint\u001b[0m\u001b[0;34m(\u001b[0m\u001b[0minput\u001b[0m\u001b[0;34m(\u001b[0m\u001b[0;34m\"Introduce el número de renglones de la matriz: \"\u001b[0m\u001b[0;34m)\u001b[0m\u001b[0;34m)\u001b[0m\u001b[0;34m\u001b[0m\u001b[0;34m\u001b[0m\u001b[0m\n\u001b[0m\u001b[1;32m      5\u001b[0m \u001b[0mn\u001b[0m\u001b[0;34m=\u001b[0m\u001b[0mint\u001b[0m\u001b[0;34m(\u001b[0m\u001b[0minput\u001b[0m\u001b[0;34m(\u001b[0m\u001b[0;34m\"Introduce el número de columnas de la matriz: \"\u001b[0m\u001b[0;34m)\u001b[0m\u001b[0;34m)\u001b[0m\u001b[0;34m\u001b[0m\u001b[0;34m\u001b[0m\u001b[0m\n\u001b[1;32m      6\u001b[0m \u001b[0mmatriza\u001b[0m\u001b[0;34m=\u001b[0m\u001b[0mnp\u001b[0m\u001b[0;34m.\u001b[0m\u001b[0mzeros\u001b[0m\u001b[0;34m(\u001b[0m\u001b[0;34m[\u001b[0m\u001b[0mm\u001b[0m\u001b[0;34m,\u001b[0m\u001b[0mn\u001b[0m\u001b[0;34m]\u001b[0m\u001b[0;34m)\u001b[0m \u001b[0;31m#Guarda los coeficientes de la matriz\u001b[0m\u001b[0;34m\u001b[0m\u001b[0;34m\u001b[0m\u001b[0m\n",
            "\u001b[0;32m/usr/local/lib/python3.10/dist-packages/ipykernel/kernelbase.py\u001b[0m in \u001b[0;36mraw_input\u001b[0;34m(self, prompt)\u001b[0m\n\u001b[1;32m    849\u001b[0m                 \u001b[0;34m\"raw_input was called, but this frontend does not support input requests.\"\u001b[0m\u001b[0;34m\u001b[0m\u001b[0;34m\u001b[0m\u001b[0m\n\u001b[1;32m    850\u001b[0m             )\n\u001b[0;32m--> 851\u001b[0;31m         return self._input_request(str(prompt),\n\u001b[0m\u001b[1;32m    852\u001b[0m             \u001b[0mself\u001b[0m\u001b[0;34m.\u001b[0m\u001b[0m_parent_ident\u001b[0m\u001b[0;34m,\u001b[0m\u001b[0;34m\u001b[0m\u001b[0;34m\u001b[0m\u001b[0m\n\u001b[1;32m    853\u001b[0m             \u001b[0mself\u001b[0m\u001b[0;34m.\u001b[0m\u001b[0m_parent_header\u001b[0m\u001b[0;34m,\u001b[0m\u001b[0;34m\u001b[0m\u001b[0;34m\u001b[0m\u001b[0m\n",
            "\u001b[0;32m/usr/local/lib/python3.10/dist-packages/ipykernel/kernelbase.py\u001b[0m in \u001b[0;36m_input_request\u001b[0;34m(self, prompt, ident, parent, password)\u001b[0m\n\u001b[1;32m    893\u001b[0m             \u001b[0;32mexcept\u001b[0m \u001b[0mKeyboardInterrupt\u001b[0m\u001b[0;34m:\u001b[0m\u001b[0;34m\u001b[0m\u001b[0;34m\u001b[0m\u001b[0m\n\u001b[1;32m    894\u001b[0m                 \u001b[0;31m# re-raise KeyboardInterrupt, to truncate traceback\u001b[0m\u001b[0;34m\u001b[0m\u001b[0;34m\u001b[0m\u001b[0m\n\u001b[0;32m--> 895\u001b[0;31m                 \u001b[0;32mraise\u001b[0m \u001b[0mKeyboardInterrupt\u001b[0m\u001b[0;34m(\u001b[0m\u001b[0;34m\"Interrupted by user\"\u001b[0m\u001b[0;34m)\u001b[0m \u001b[0;32mfrom\u001b[0m \u001b[0;32mNone\u001b[0m\u001b[0;34m\u001b[0m\u001b[0;34m\u001b[0m\u001b[0m\n\u001b[0m\u001b[1;32m    896\u001b[0m             \u001b[0;32mexcept\u001b[0m \u001b[0mException\u001b[0m \u001b[0;32mas\u001b[0m \u001b[0me\u001b[0m\u001b[0;34m:\u001b[0m\u001b[0;34m\u001b[0m\u001b[0;34m\u001b[0m\u001b[0m\n\u001b[1;32m    897\u001b[0m                 \u001b[0mself\u001b[0m\u001b[0;34m.\u001b[0m\u001b[0mlog\u001b[0m\u001b[0;34m.\u001b[0m\u001b[0mwarning\u001b[0m\u001b[0;34m(\u001b[0m\u001b[0;34m\"Invalid Message:\"\u001b[0m\u001b[0;34m,\u001b[0m \u001b[0mexc_info\u001b[0m\u001b[0;34m=\u001b[0m\u001b[0;32mTrue\u001b[0m\u001b[0;34m)\u001b[0m\u001b[0;34m\u001b[0m\u001b[0;34m\u001b[0m\u001b[0m\n",
            "\u001b[0;31mKeyboardInterrupt\u001b[0m: Interrupted by user"
          ]
        }
      ]
    },
    {
      "cell_type": "markdown",
      "source": [
        "---\n",
        "\n",
        "\n",
        "# **Sistemas Rectangulares**\n",
        "\n",
        "\n",
        "---"
      ],
      "metadata": {
        "id": "MT_lKsGRklc6"
      }
    },
    {
      "cell_type": "code",
      "source": [
        "import numpy as np\n",
        "import sympy as sp\n",
        "\n",
        "def main():\n",
        "    a=sp.Matrix([[1, 0, 0, 0, -3, 0],\\\n",
        "                [6, 0, 0, 0, 0, -1],\\\n",
        "                [0 , 1, -2, 0, 0, 0],\\\n",
        "                [0, 2, 0,-1, 0, 0],\\\n",
        "                [0, 8, -3, -2, -4, -1]])\n",
        "    b=sp.Matrix([0, 0, 0, 0, 0])\n",
        "    xvars=sp.symbols('x1, x2, x3, x4, x5, x6')\n",
        "    x=sp.Matrix(xvars)\n",
        "    sol=sp.solve(a*x-b, xvars) #Para resolver sistemas rectangulares solo es necesario utilizar el comando solve\n",
        "    print('Solucion:{}'.format(sol))\n",
        "\n",
        "if __name__==\"__main__\":main()"
      ],
      "metadata": {
        "id": "vVk4ZmZ8kw7v",
        "outputId": "1c43dab5-e413-4428-9450-6d7d22cf7ddc",
        "colab": {
          "base_uri": "https://localhost:8080/"
        }
      },
      "execution_count": null,
      "outputs": [
        {
          "output_type": "stream",
          "name": "stdout",
          "text": [
            "Solucion:{x1: x6/6, x2: 22*x6/45, x3: 11*x6/45, x4: 44*x6/45, x5: x6/18}\n"
          ]
        }
      ]
    },
    {
      "cell_type": "markdown",
      "source": [
        "---\n",
        "\n",
        "\n",
        "# **Descomposición LU**\n",
        "\n",
        "\n",
        "---"
      ],
      "metadata": {
        "id": "sKnr1CInk309"
      }
    },
    {
      "cell_type": "code",
      "source": [
        "import numpy as np\n",
        "import scipy as sp\n",
        "import sympy as sp\n",
        "\n",
        "# Definir la matriz A que deseas descomponer\n",
        "def main():\n",
        "    a=sp.Matrix([[1, 1, 1],\\\n",
        "                [-2, 2, 3]])\n",
        "    b=sp.Matrix([22, 0])\n",
        "    xvars=sp.symbols('x1, x2, x3')\n",
        "    x=sp.Matrix(xvars)\n",
        "    sol=sp.solve(a*x-b, xvars)\n",
        "\n",
        "# Obtener las dimensiones de la matriz A\n",
        "    print('Multiples soluciones')\n",
        "    print('Solucion:{}'.format(sol))\n",
        "\n",
        "if __name__==\"__main__\":main()"
      ],
      "metadata": {
        "id": "9D-1wb7ak28f",
        "outputId": "22f7c2db-36a9-48f6-e3b1-eb81e6af82c4",
        "colab": {
          "base_uri": "https://localhost:8080/"
        }
      },
      "execution_count": null,
      "outputs": [
        {
          "output_type": "stream",
          "name": "stdout",
          "text": [
            "Multiples soluciones\n",
            "Solucion:{x1: x3/4 + 11, x2: 11 - 5*x3/4}\n"
          ]
        }
      ]
    },
    {
      "cell_type": "markdown",
      "source": [
        "Continuación del PROBLEMA"
      ],
      "metadata": {
        "id": "ym80uD26lBLo"
      }
    },
    {
      "cell_type": "markdown",
      "source": [
        "Realiza el código"
      ],
      "metadata": {
        "id": "fTjrzdsglI-D"
      }
    },
    {
      "cell_type": "code",
      "source": [],
      "metadata": {
        "id": "eSG-_G9TlEYy"
      },
      "execution_count": null,
      "outputs": []
    },
    {
      "cell_type": "markdown",
      "source": [
        "\n",
        "---\n",
        "\n",
        "\n",
        "# **Matriz Inversa**\n",
        "\n",
        "\n",
        "---\n"
      ],
      "metadata": {
        "id": "T8KSpn9MlQEM"
      }
    },
    {
      "cell_type": "code",
      "source": [
        "def imprimir(A, MATRIZ):\n",
        "    print(MATRIZ)\n",
        "    for fila in A:\n",
        "        for value in fila:\n",
        "            print(f\"{value:6.2f} \", end=\"\")\n",
        "        print()\n",
        "    print(\"\")\n",
        "\n",
        "\n",
        "def inversion(A):\n",
        "    num_filas = len(A)\n",
        "    num_cols = len(A[0])\n",
        "\n",
        "    m1 =  - 1\n",
        "    n2 = num_cols * 2\n",
        "\n",
        "    if num_filas != num_cols:\n",
        "        print(\"Error: La matriz no es cuadrada. Por tanto, no es invertible.\")\n",
        "        return None\n",
        "\n",
        "    # Construcción de la matriz A | I\n",
        "    for idx_fila in range(num_filas):\n",
        "        A[idx_fila] += [1 if idx_fila == j else 0 for j in range(num_filas)]\n",
        "\n",
        "    imprimir( np.around(A, decimals=2), \"Matriz ampliada inicial:\")\n",
        "\n",
        "    # Algoritmo - Triangularización superior\n",
        "\n",
        "    for idx_col in range(num_cols):\n",
        "        # Búsqueda de pivote\n",
        "        print(f\"Procesando columna {idx_col}\")\n",
        "        l = [(abs(A[idx_fila][idx_col]), idx_fila) for idx_fila in range(idx_col, num_filas) if A[idx_fila][idx_col] != 0]\n",
        "        if len(l) == 0:\n",
        "            print(\"Error: La matriz no es invertible.\")\n",
        "            return None\n",
        "\n",
        "        idx_fila = min(l)[1]\n",
        "        if idx_fila != idx_col:\n",
        "            print(f\"Intercambiar fila {idx_fila} con {idx_col}\")\n",
        "            A[idx_col], A[idx_fila] = A[idx_fila],  A[idx_col]\n",
        "            imprimir(np.around(A, decimals=2), \"Matriz intercambiada\")\n",
        "\n",
        "        # Triangularización superior\n",
        "        for idx_fila in [idx for idx in range(idx_col + 1, num_filas) if A[idx][idx_col] != 0]:\n",
        "            alpha = -A[idx_fila][idx_col] / A[idx_col][idx_col]\n",
        "            print(f\"Ajuste para fila {idx_fila} es {alpha}\")\n",
        "            for k in range(n2):\n",
        "                A[idx_fila][k] += A[idx_col][k] * alpha\n",
        "            imprimir(np.around(A, decimals=2), \"Matriz ajustada\")\n",
        "\n",
        "    imprimir(np.around(A, decimals=2), \"Matriz triangulación superior\")\n",
        "\n",
        "    # Algoritmo - Triangularización inferior\n",
        "\n",
        "    for idx_col in range(1, num_cols):\n",
        "        print(f\"Procesando columna {idx_col}\")\n",
        "        for idx_fila in range(idx_col):\n",
        "            alpha = -A[idx_fila][idx_col] / A[idx_col][idx_col]\n",
        "            print(f\"Fila {idx_fila}, factor {np.around(alpha, decimals=2)}\")\n",
        "            for k in range(idx_col, n2):\n",
        "                A[idx_fila][k] += A[idx_col][k] * alpha\n",
        "            imprimir(np.around(A, decimals=2), \"Ajustada\")\n",
        "\n",
        "    imprimir(np.around(A, decimals=2), \"Matriz triangulación inferior\")\n",
        "    # Algoritmo - Transformación a la matriz identidad\n",
        "\n",
        "    for idx_fila in range(num_filas):\n",
        "        alpha = A[idx_fila][idx_fila]\n",
        "        for idx_col in range(idx_fila, n2):\n",
        "            A[idx_fila][idx_col] /= alpha\n",
        "\n",
        "    imprimir(np.around(A, decimals=2), \"Matriz identidad\")\n",
        "\n",
        "    inversa = []\n",
        "    for fila in A:\n",
        "        inversa.append(fila[num_cols:])\n",
        "\n",
        "    return inversa\n",
        "\n",
        "matriz1 = [[1,2,-1], [2,1,0], [-1,1,2]]\n",
        "x = inversion(matriz1)\n",
        "imprimir(x, \"Matriz Inversa\")"
      ],
      "metadata": {
        "id": "3cVf42NclP0A"
      },
      "execution_count": null,
      "outputs": []
    },
    {
      "cell_type": "markdown",
      "source": [
        "---\n",
        "# **Regla de Cramer**\n",
        "\n",
        "---\n"
      ],
      "metadata": {
        "id": "JmQit8M_lWVk"
      }
    },
    {
      "cell_type": "code",
      "source": [
        "import numpy as np\n",
        "import scipy as sp\n",
        "\n",
        "def cramer(A,b):\n",
        "    dA=np.linalg.det(A)\n",
        "    _,n=np.shape(A)\n",
        "    if (dA ==0):\n",
        "        raise ValueError('El sistema no tiene solución por la regla de Cramer')\n",
        "    x=np.zeros(n)\n",
        "    for i in range(n):\n",
        "        di=np.copy(A)\n",
        "        di[:,i]=b\n",
        "        x[i]=np.linalg.det(di)/dA\n",
        "\n",
        "    return x\n",
        "\n",
        "def main ():\n",
        "     A=np.array([[3,2,-1],[2,-2,4],[-1,1/2,-1]])\n",
        "     b=np.array([1,-2,0])\n",
        "     x= cramer(A,b)\n",
        "     print('Valor del vector:', x)\n",
        "     print('Valor de x1:', x[0])\n",
        "     print('Valor de x2:', x[1])\n",
        "     print('Valor de x3:', x[2])\n",
        "\n",
        "if __name__ == \"__main__\":main()"
      ],
      "metadata": {
        "id": "quV86xyPlY2R"
      },
      "execution_count": null,
      "outputs": []
    },
    {
      "cell_type": "markdown",
      "source": [
        "---\n",
        "# **MÉTODOS ITERATIVOS**\n",
        "\n",
        "---"
      ],
      "metadata": {
        "id": "zb1pQqQYlh7m"
      }
    },
    {
      "cell_type": "markdown",
      "source": [
        "---\n",
        "# **Jacobi**\n",
        "\n",
        "---"
      ],
      "metadata": {
        "id": "4wc5NFXzlp5x"
      }
    },
    {
      "cell_type": "code",
      "source": [
        "import numpy as np\n",
        "import scipy as sp\n",
        "\n",
        "def jacobi (A,b,x,imax=100,tol=1e-8) :\n",
        "  D=np.diag(A)\n",
        "  R=A-np.diagflat(D)\n",
        "  cumple = False\n",
        "  k=0\n",
        "  while (not cumple and k<imax):\n",
        "      xk1=(b-np.dot(R,x))/D\n",
        "      norma=np.linalg.norm(x-xk1)\n",
        "      print ('iteracion:{}->{} norma{}'.format(k,x,norma))\n",
        "      cumple=norma<tol\n",
        "      x= xk1.copy()\n",
        "      k+=1\n",
        "\n",
        "  if k<imax :\n",
        "   return x\n",
        "  else:\n",
        "   raise ValueError('El sistema no converge')\n",
        "\n",
        "def main():\n",
        "    A=np.array([[-512, 12, 0, 0, 0] ,\\\n",
        "    [500, -512, 12, 0, 0] ,\\\n",
        "    [0, 500, -512, 12, 0] ,\\\n",
        "    [0, 0, 500, -512, 12] ,\\\n",
        "    [0, 0, 0, -500, 512]])\n",
        "    b =np.array([0, 0, 0, 0, 9])\n",
        "    x =np.array([0, 0, 0, 0, 0])\n",
        "    x=jacobi(A,b,x)\n",
        "    print ('Solución', x)\n",
        "    print ('El conjunto solución es:')\n",
        "    print ('Plato 1:', x[4])\n",
        "    print ('Plato 2:', x[3])\n",
        "    print ('Plato 3:', x[2])\n",
        "    print ('Plato 4:', x[1])\n",
        "    print ('Plato 5:', x[0])\n",
        "\n",
        "if __name__==\"__main__\":main()"
      ],
      "metadata": {
        "id": "KqooG10OljTJ"
      },
      "execution_count": null,
      "outputs": []
    },
    {
      "cell_type": "markdown",
      "source": [
        "---\n",
        "# **Gauss-Sheidel**\n",
        "\n",
        "---"
      ],
      "metadata": {
        "id": "53pt0uXylxgO"
      }
    },
    {
      "cell_type": "code",
      "source": [
        "import numpy as np\n",
        "import scipy as sp\n",
        "\n",
        "def gaussSeidel (A,b,x,imax=100,tol=1e-8) :\n",
        "    L=np.tril(A)\n",
        "    U=A-L\n",
        "    Linv=np.linalg.inv(L)\n",
        "    cumple=False\n",
        "    k=0\n",
        "    while (not cumple and k<imax):\n",
        "        xk1=np.dot(Linv,b-np.dot(U,x))\n",
        "        norma=np.linalg.norm(x-xk1)\n",
        "        print('iteracion:{}->{} norma{}'.format(k,x,norma))\n",
        "        cumple=norma<tol\n",
        "        x=xk1.copy()\n",
        "        k+=1\n",
        "\n",
        "    if k<imax :\n",
        "      return x\n",
        "    else:\n",
        "      raise ValueError('El sistema no converge')\n",
        "\n",
        "def main():\n",
        "   A=np.array([[-512, 12, 0, 0,0] ,\\\n",
        "              [500, -512, 12, 0, 0] ,\\\n",
        "              [0, 500, -512, 12, 0] ,\\\n",
        "              [0 ,0 ,500 , -512 ,12] ,\\\n",
        "              [0 ,0 ,0 , -500 ,512]])\n",
        "   b = np. array ([0 ,0 ,0 ,0 ,9])\n",
        "   x = np. array ([0 ,0 ,0 ,0 ,0])\n",
        "   x= gaussSeidel (A,b,x)\n",
        "   print('Solucion:', x)\n",
        "   print ('El conjunto solución es:')\n",
        "   print ('Plato 1:', x[4])\n",
        "   print ('Plato 2:', x[3])\n",
        "   print ('Plato 3:', x[2])\n",
        "   print ('Plato 4:', x[1])\n",
        "   print ('Plato 5:', x[0])\n",
        "\n",
        "if __name__== \"__main__\":main()\n"
      ],
      "metadata": {
        "id": "SVfoPiNtlyJc"
      },
      "execution_count": null,
      "outputs": []
    }
  ]
}