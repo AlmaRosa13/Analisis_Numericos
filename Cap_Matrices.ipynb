{
  "nbformat": 4,
  "nbformat_minor": 0,
  "metadata": {
    "colab": {
      "provenance": [],
      "authorship_tag": "ABX9TyPtgOmSxSjlZiweyGB3UJd6",
      "include_colab_link": true
    },
    "kernelspec": {
      "name": "python3",
      "display_name": "Python 3"
    },
    "language_info": {
      "name": "python"
    }
  },
  "cells": [
    {
      "cell_type": "markdown",
      "metadata": {
        "id": "view-in-github",
        "colab_type": "text"
      },
      "source": [
        "<a href=\"https://colab.research.google.com/github/AlmaRosa13/Analisis_Numericos/blob/main/Cap_Matrices.ipynb\" target=\"_parent\"><img src=\"https://colab.research.google.com/assets/colab-badge.svg\" alt=\"Open In Colab\"/></a>"
      ]
    },
    {
      "cell_type": "markdown",
      "source": [
        "### **Eliminación de Gauss**"
      ],
      "metadata": {
        "id": "BCM-7Sot8STV"
      }
    },
    {
      "cell_type": "code",
      "execution_count": 1,
      "metadata": {
        "colab": {
          "base_uri": "https://localhost:8080/"
        },
        "id": "NhvVCbqH8O-w",
        "outputId": "21deecc0-71f6-4b56-c852-0e9f57f21042"
      },
      "outputs": [
        {
          "output_type": "stream",
          "name": "stdout",
          "text": [
            "rango(A)=5; rango(Ab)=5; n=5\n",
            "Solución única\n",
            "[17.65270678 19.67904691 35.15143662 22.69415361  4.82265608]\n"
          ]
        }
      ],
      "source": [
        "import numpy as np\n",
        "\n",
        "def gauss(a,b):\n",
        "    n,_=np.shape(a) # Shape da la dimensión real en términos de matriz o fila/columnas.\n",
        "    A=np.c_[a,b]\n",
        "    for i in range(n-1):\n",
        "        for j in range(i+1,n):\n",
        "            # Si el termino ya es cero continua con la siguiente\n",
        "            if (A[j,i]!=0 and A[i,i]!=0):\n",
        "                f=A[j,i]/A[i,i] # factor de reduccion\n",
        "                A[j,i+1:n+1]=A[j,i+1:n+1]-f*A[i,i+1:n+1]\n",
        "   # aplica la sustitucion inversa\n",
        "    x=np.zeros(n)\n",
        "    for i in range(n-1,-1,-1):\n",
        "        x[i]=(A[i,n]-np.dot(A[i,i+1:n],x[i+1:n]))/A[i,i]\n",
        "    return x\n",
        "\n",
        "def main():\n",
        "    a=np.array([[55.8, 20.4, 17.1, 18.5, 19.2],\\\n",
        "               [7.8, 52.1, 12.3, 13.9, 18.5],\\\n",
        "               [16.4, 11.5, 46.1, 11.5, 21.3],\\\n",
        "               [11.7, 9.2, 14.1, 47.0, 10.4],\\\n",
        "               [8.3, 6.8, 10.4, 9.1, 30.6]])\n",
        "    b=np.array([2500, 2000, 2500, 2000, 1000])\n",
        "    n,c=np.shape(a)\n",
        "    r=np.linalg.matrix_rank(a)\n",
        "    ab=np.c_[a,b]\n",
        "    ra=np.linalg.matrix_rank(ab)\n",
        "    print('rango(A)={}; rango(Ab)={}; n={}'.format(r,ra,n))\n",
        "    if (r==ra==n):\n",
        "        print('Solución única')\n",
        "        x= gauss(a,b)\n",
        "        #x=np. linalg . solve (a, b)\n",
        "        print(x)\n",
        "    if (r==ra<n):\n",
        "        print('Múltiples soluciones')\n",
        "    if (r<ra):\n",
        "        print('Sin solución')\n",
        "if __name__==\"__main__\":main()\n"
      ]
    },
    {
      "cell_type": "markdown",
      "source": [
        "# **Gauss-Jordan**\n"
      ],
      "metadata": {
        "id": "01j4uCZz8USz"
      }
    },
    {
      "cell_type": "code",
      "source": [
        "import numpy as np\n",
        "import sympy as sp\n",
        "\n",
        "def gaussJordan(a,b):\n",
        "    n,_=np.shape(a) # Shape da la dimensión real en términos de matriz o fila/columnas.\n",
        "    A=np.c_[a,b]\n",
        "    for i in range(n):\n",
        "        for j in range(n):\n",
        "            # Si el termino ya es cero continua con la siguiente\n",
        "            if (A[j,i]!=0 and A[i,i]!=0 and i!=j):\n",
        "                # factor de reducción\n",
        "                f=A[j,i]/A[i,i]\n",
        "                A[j,i+1:n+1]=A[j,i+1:n+1]-f*A[i,i+1:n+1]\n",
        "   # aplica la sustitucion inversa\n",
        "    x=np.zeros(n)\n",
        "    for i in range(n):\n",
        "        x[i]=A[i,n]/A[i,i]\n",
        "    return x\n",
        "\n",
        "def main():\n",
        "    a=np.array([[1, -5, -5],\\\n",
        "               [0, 3, -1],\\\n",
        "               [1, 1, -7]])\n",
        "    b=np.array([0, 0, 0])\n",
        "    n,c=np.shape(a) #calcular la dim de la matriz A solo se hace utilizando np\n",
        "    r=np.linalg.matrix_rank(a)\n",
        "    ab=np.c_[a,b]\n",
        "    ra=np.linalg.matrix_rank(ab)\n",
        "\n",
        "    print('rango(A)={}; rango(Ab)={}; n={}'.format(r,ra,n))\n",
        "\n",
        "    if (r==ra==n):\n",
        "        print('Solución única')\n",
        "        x=gaussJordan(a,b)\n",
        "        #x=np.linalg.solve(a,b)\n",
        "        print(x)\n",
        "    if (r==ra<n):\n",
        "        print('Múltiples soluciones')\n",
        "        x=sp.Matrix(a).rref()\n",
        "        print(x)\n",
        "    if (r<ra):\n",
        "        print('Sin solución')\n",
        "\n",
        "if __name__==\"__main__\":main()"
      ],
      "metadata": {
        "id": "MUxqTXuj8wS9"
      },
      "execution_count": null,
      "outputs": []
    }
  ]
}